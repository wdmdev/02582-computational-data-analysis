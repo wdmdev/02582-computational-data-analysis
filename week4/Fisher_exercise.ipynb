{
 "cells": [
  {
   "cell_type": "code",
   "execution_count": 2,
   "metadata": {},
   "outputs": [],
   "source": [
    "import os\n",
    "import numpy as np\n",
    "from sklearn.metrics import confusion_matrix\n",
    "import matplotlib.pyplot as plt\n",
    "\n",
    "# seaborn can be used to \"prettify\" default matplotlib plots by importing and setting as default\n",
    "import seaborn as sns\n",
    "sns.set() # Set searborn as default"
   ]
  },
  {
   "cell_type": "markdown",
   "metadata": {},
   "source": [
    "## Load dataset"
   ]
  },
  {
   "cell_type": "code",
   "execution_count": 3,
   "metadata": {},
   "outputs": [],
   "source": [
    "dataPath = os.path.join('Data', 'FisherIris.csv')\n",
    "# Dump data file into an array\n",
    "with open(dataPath, \"r\") as ins:\n",
    "    listArray = [line.replace('\\n', '').split('\\t') for line in ins]\n",
    "    \n",
    "attributeNames = []\n",
    "\n",
    "# Encode data in desired format\n",
    "n = len(listArray) - 1\n",
    "p = len(listArray[0][0].split(',')) - 1\n",
    "X = np.zeros((n, p))\n",
    "y = np.zeros(n).astype(int)\n",
    "for i, data in enumerate(listArray):\n",
    "    dataTemp = data[0].split(',')\n",
    "    if i == 0: # first row is attribute names\n",
    "        attributeNames = dataTemp[0:4]\n",
    "    else:\n",
    "        X[i - 1,:] = dataTemp[0:4]\n",
    "        flowerInd = dataTemp[4]\n",
    "        if flowerInd == 'Setosa':\n",
    "            y[i-1] = 0\n",
    "        elif flowerInd == \"Versicolor\":\n",
    "            y[i-1] = 1\n",
    "        else:\n",
    "            y[i-1] = 2"
   ]
  },
  {
   "cell_type": "markdown",
   "metadata": {},
   "source": [
    "> Calculate plug-in estimates of $\\hat{\\pi}_k$, $\\hat{\\mu}_k$, and $\\hat{\\Sigma}$"
   ]
  },
  {
   "cell_type": "code",
   "execution_count": 111,
   "metadata": {},
   "outputs": [
    {
     "name": "stdout",
     "output_type": "stream",
     "text": [
      "[0.33333333 0.33333333 0.33333333]\n",
      "[[5.006 3.418 1.464 0.244]\n",
      " [5.936 2.77  4.26  1.326]\n",
      " [6.588 2.974 5.552 2.026]]\n",
      "[[0.26500816 0.09308163 0.16744218 0.03847347]\n",
      " [0.09308163 0.11588435 0.0552381  0.03342313]\n",
      " [0.16744218 0.0552381  0.18517007 0.0425415 ]\n",
      " [0.03847347 0.03342313 0.0425415  0.04201088]]\n"
     ]
    }
   ],
   "source": [
    "pi = np.zeros(3)\n",
    "mu = np.zeros((3, p))\n",
    "S = np.zeros((p,p))\n",
    "\n",
    "labels, Nk = np.unique(y, return_counts=True)\n",
    "K = len(labels)\n",
    "\n",
    "pi = Nk/n\n",
    "for l in labels:\n",
    "    mask = y == l\n",
    "    xl = X[mask,:]\n",
    "    mu[l] = np.sum(xl/Nk[l], axis=0)\n",
    "\n",
    "for l in labels:\n",
    "    mu_l = mu[l,:]\n",
    "    mask = y == l\n",
    "    xl = X[mask,:]\n",
    "    S += (xl-mu_l).T@(xl-mu_l)/(n-K)\n",
    "\n",
    "print(pi)\n",
    "print(mu)\n",
    "print(S)"
   ]
  },
  {
   "cell_type": "markdown",
   "metadata": {},
   "source": [
    "> Calculate discriminant function $\\delta_k$"
   ]
  },
  {
   "cell_type": "code",
   "execution_count": 112,
   "metadata": {},
   "outputs": [],
   "source": [
    "def produceDiscriminantLine(X, S, mu, pi):\n",
    "    \n",
    "    return X @ np.linalg.inv(S) @ mu - 1/2 * mu.T @ np.linalg.inv(S) @ mu + np.log(pi)\n",
    "\n",
    "# Discriminants\n",
    "d = np.zeros((3, n))\n",
    "for i in range(3):\n",
    "    d[i,:] = produceDiscriminantLine(X, S, mu[i,:], pi[i])"
   ]
  },
  {
   "cell_type": "markdown",
   "metadata": {},
   "source": [
    "> Predict class belongings for all observations in training data"
   ]
  },
  {
   "cell_type": "code",
   "execution_count": 113,
   "metadata": {},
   "outputs": [],
   "source": [
    "# Classify according to discriminant\n",
    "yhat = np.argmax(d, axis=0)"
   ]
  },
  {
   "cell_type": "markdown",
   "metadata": {},
   "source": [
    "> Calculate the confusion matrix for training data"
   ]
  },
  {
   "cell_type": "code",
   "execution_count": 114,
   "metadata": {},
   "outputs": [
    {
     "data": {
      "image/png": "[encoded data removed]",
      "text/plain": [
       "<Figure size 432x288 with 2 Axes>"
      ]
     },
     "metadata": {},
     "output_type": "display_data"
    }
   ],
   "source": [
    "# If you run version 0.22 or higher of sklearn then you can plot the confusion matrix.\n",
    "# Plot non-normalized confusion matrix\n",
    "from sklearn.metrics import confusion_matrix, ConfusionMatrixDisplay\n",
    "\n",
    "disp = ConfusionMatrixDisplay(confusion_matrix(y, yhat, labels=labels), display_labels=labels)\n",
    "\n",
    "# NOTE: Fill all variables here with default values of the plot_confusion_matrix\n",
    "disp = disp.plot(include_values=True, cmap='Blues', ax=None)\n",
    "plt.grid(None)\n",
    "plt.show()"
   ]
  },
  {
   "cell_type": "code",
   "execution_count": null,
   "metadata": {},
   "outputs": [],
   "source": []
  }
 ],
 "metadata": {
  "kernelspec": {
   "display_name": "Python 3",
   "language": "python",
   "name": "python3"
  },
  "language_info": {
   "codemirror_mode": {
    "name": "ipython",
    "version": 3
   },
   "file_extension": ".py",
   "mimetype": "text/x-python",
   "name": "python",
   "nbconvert_exporter": "python",
   "pygments_lexer": "ipython3",
   "version": "3.9.7"
  }
 },
 "nbformat": 4,
 "nbformat_minor": 4
}
