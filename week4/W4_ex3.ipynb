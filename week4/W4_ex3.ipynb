{
 "cells": [
  {
   "cell_type": "code",
   "execution_count": null,
   "metadata": {},
   "outputs": [],
   "source": [
    "import numpy as np\n",
    "import matplotlib.pyplot as plt\n",
    "import scipy.io\n",
    "import os\n",
    "\n",
    "# seaborn can be used to \"prettify\" default matplotlib plots by importing and setting as default\n",
    "import seaborn as sns\n",
    "sns.set() # Set searborn as default"
   ]
  },
  {
   "cell_type": "markdown",
   "metadata": {},
   "source": [
    "## Load dataset"
   ]
  },
  {
   "cell_type": "code",
   "execution_count": null,
   "metadata": {},
   "outputs": [],
   "source": [
    "dataPath = os.path.join('..','Data', 'Silhouettes.mat')\n",
    "mat = scipy.io.loadmat(dataPath)\n",
    "Fem = mat['Fem'].ravel() - 1 # Get rid of outer dim, -1 due to stupid matlab indexing\n",
    "Male = mat['Male'].ravel() - 1\n",
    "num_female = Fem.size\n",
    "num_male = Male.size\n",
    "Xa = mat['Xa']\n",
    "gamma = np.linspace(0.01, 0.99, 12) #  try in the range [0.01,0.99]"
   ]
  },
  {
   "cell_type": "markdown",
   "metadata": {},
   "source": [
    "### 3 Implement and calculate a Regularized Discriminant Analysis (RDA) for the Silhouette data in Silhouettes.mat"
   ]
  },
  {
   "cell_type": "code",
   "execution_count": null,
   "metadata": {},
   "outputs": [],
   "source": [
    "f, (ax1, ax2) = plt.subplots(1, 2, sharey=True, figsize=(10,10))\n",
    "ax1.plot(Xa[Fem,:65].T, Xa[Fem, 65:].T)\n",
    "ax1.set_title(\"Female Silhouettes\")\n",
    "ax2.plot(Xa[Male, :65].T, Xa[Male, 65:].T)\n",
    "ax2.set_title(\"Male Silhouttes\")\n",
    "plt.show()"
   ]
  },
  {
   "cell_type": "markdown",
   "metadata": {},
   "source": [
    "> (a) What happens when we vary $\\gamma$ in RDA?"
   ]
  },
  {
   "cell_type": "code",
   "execution_count": null,
   "metadata": {},
   "outputs": [],
   "source": [
    "cl_tr = np.zeros(iterations)\n",
    "cl_tst = np.zeros(iterations)\n",
    "train = np.zeros(len(gamma))\n",
    "test = np.zeros(len(gamma))\n",
    "s_test = np.zeros(len(gamma))\n",
    "\n",
    "gamma = np.linspace(0.01, 0.99, 12) #  try in the range [0.01,0.99]\n",
    "iterations = 100\n",
    "\n",
    "fig, axis = plt.subplots(3,4)\n",
    "\n",
    "plt_col = 0\n",
    "plt_row = -1\n",
    "fig.suptitle('RDA Covariance matrix', fontsize=16)\n",
    "for j in range(len(gamma)):\n",
    "    for i in range(iterations):\n",
    "        #Retrieve bootstrap sample. Hint: Use numpy's random.choice\n",
    "        femP = \n",
    "        maleP = \n",
    "        \n",
    "        #Retrieve Out-of-Bootstrap samples. Hint. Use \"List Comprehension\". For x in Fem add to list if x not in femP ect.\n",
    "        femOOB = \n",
    "        maleOOB = \n",
    "        \n",
    "        #Concat gendered data sets\n",
    "        train_sample = np.concatenate([femP, maleP]).tolist()\n",
    "        test_sample = femOOB + maleOOB\n",
    "        \n",
    "        # get means of the two classes\n",
    "        \n",
    "        # Calculate the pooled within class covariance matrix\n",
    "\n",
    "        # Calculate the regularized discriminant analysis estimate of the covariance matrix\n",
    "\n",
    "        # predict train and test\n",
    "        \n",
    "        score_fem = \n",
    "        score_male = \n",
    "        \n",
    "        #Compute classification accuracy\n",
    "        class_true = np.ones((Xa.shape[0]))\n",
    "        class_true[Male] = 2\n",
    "        class_pred = (score_male>score_fem)+1\n",
    "\n",
    "        cl_tr[i] = np.mean(class_true[train_sample]==class_pred[train_sample]) #classification rate/prediction accuracy train\n",
    "        cl_tst[i] = np.mean(class_true[test_sample]==class_pred[test_sample]) #classification rate/prediction accuracy test\n",
    "\n",
    "    train[j] = np.mean(cl_tr)\n",
    "    test[j] = np.mean(cl_tst)\n",
    "    s_test[j] = np.std(cl_tst)\n",
    "\n",
    "    plt_col = j % 4\n",
    "    if plt_col == 0:\n",
    "        plt_row +=1\n",
    "    axis[plt_row, plt_col].grid(None)\n",
    "    axis[plt_row, plt_col].set_xticks([])\n",
    "    axis[plt_row, plt_col].set_yticks([])\n",
    "    axis[plt_row, plt_col].imshow(srda)\n",
    "    plt.grid(None)\n",
    "    \n",
    "    \n",
    "plt.show()   \n",
    "\n",
    "plt.figure(4)\n",
    "plt.plot(gamma,train,'r-')\n",
    "plt.xlabel('gamma')\n",
    "plt.ylabel('Classification rate')\n",
    "plt.plot(gamma,test,'b-')\n",
    "plt.plot(gamma,test-s_test,'b--')\n",
    "plt.plot(gamma,test+s_test,'b--')\n",
    "plt.legend(('train','test'))\n",
    "plt.title('Prediciton accuracy', fontsize=16)\n",
    "plt.show()"
   ]
  }
 ],
 "metadata": {
  "kernelspec": {
   "display_name": "Python 3",
   "language": "python",
   "name": "python3"
  },
  "language_info": {
   "codemirror_mode": {
    "name": "ipython",
    "version": 3
   },
   "file_extension": ".py",
   "mimetype": "text/x-python",
   "name": "python",
   "nbconvert_exporter": "python",
   "pygments_lexer": "ipython3",
   "version": "3.8.3"
  }
 },
 "nbformat": 4,
 "nbformat_minor": 4
}
