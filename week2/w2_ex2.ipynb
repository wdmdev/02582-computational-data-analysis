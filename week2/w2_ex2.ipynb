{
 "cells": [
  {
   "cell_type": "markdown",
   "metadata": {},
   "source": [
    "## Imports"
   ]
  },
  {
   "cell_type": "code",
   "execution_count": null,
   "metadata": {},
   "outputs": [],
   "source": [
    "# To embed plots in the notebooks\n",
    "%matplotlib inline\n",
    "import matplotlib.pyplot as plt\n",
    "\n",
    "import numpy as np # numpy library\n",
    "import scipy.io\n",
    "from scipy.spatial import distance # load distance function\n",
    "from sklearn.neighbors import KNeighborsClassifier\n",
    "from sklearn.model_selection import train_test_split\n",
    "from sklearn.metrics import roc_curve, auc\n",
    "from sklearn.model_selection import KFold\n",
    "\n",
    "# seaborn can be used to \"prettify\" default matplotlib plots by importing and setting as default\n",
    "import seaborn as sns\n",
    "sns.set() # Set searborn as default"
   ]
  },
  {
   "cell_type": "markdown",
   "metadata": {},
   "source": [
    "# load dataset"
   ]
  },
  {
   "cell_type": "code",
   "execution_count": null,
   "metadata": {},
   "outputs": [],
   "source": [
    "mat = scipy.io.loadmat('Silhouettes.mat')\n",
    "Fem = mat['Fem'].ravel() - 1 # Get rid of outer dim, -1 due to stupid matlab indexing\n",
    "Male = mat['Male'].ravel() - 1\n",
    "Xa = mat['Xa']"
   ]
  },
  {
   "cell_type": "markdown",
   "metadata": {},
   "source": [
    "## 2 Perform model selection for KNN classification (for the silhouette data):\n",
    "> (a) Load the dataset and plot the silhouettes.\n"
   ]
  },
  {
   "cell_type": "code",
   "execution_count": null,
   "metadata": {},
   "outputs": [],
   "source": [
    "# Create a plot of the female and male silhouettes. Hint: x-values are in the first 65 columns and y-valies are in the last 65 columns"
   ]
  },
  {
   "cell_type": "markdown",
   "metadata": {},
   "source": [
    ">(b) What size of fold would you use for cross-validation for the silhouette data set? Why?"
   ]
  },
  {
   "cell_type": "markdown",
   "metadata": {},
   "source": [
    "**We have very few observations(39), and ....**"
   ]
  },
  {
   "cell_type": "markdown",
   "metadata": {},
   "source": [
    ">(c) Select a suitable number K for KNN classification on the silhouette profiles data using leave-one-out cross-validation."
   ]
  },
  {
   "cell_type": "code",
   "execution_count": null,
   "metadata": {},
   "outputs": [],
   "source": [
    "#Setup a response vector\n",
    "N = np.shape(Xa)[0]\n",
    "y = np.zeros(N)\n",
    "y[Fem] = 1\n",
    "n_classes = 2\n",
    "\n",
    "# For a suitable number create K chunks of the data. Hint: feel fre to use sklearns \"KFold\"\n",
    "K =\n",
    "\n",
    "# select a range of k neighbours\n",
    "k_neigh = \n",
    "Error = np.zeros((K, k_neigh))\n",
    "\n",
    "\n",
    "# run KNN with the entire range og k neighbours on all K chunks of the data\n",
    "# Feel free to use Scikit KNN classifier, as you have already tried implementing it youself\n",
    "\n",
    "# calculate the mse across folds. You can also use the mae if the mse errors are almost the same\n",
    "\n",
    "\n",
    "\n",
    "# Plot the error for each number of neighbours\n",
    "E = np.mean(Error, axis = 0)\n",
    "\n",
    "fig  = plt.figure(figsize=(10,10))\n",
    "plt.scatter(list(range(1,k_neigh)), E, marker = '*')\n",
    "plt.axis([0, 11, 0.2, 0.6])\n",
    "fig.suptitle(\"CV test error\", fontsize=20)\n",
    "plt.xlabel(\"K\")\n",
    "plt.ylabel(\"Error\")\n",
    "plt.show()"
   ]
  }
 ],
 "metadata": {
  "kernelspec": {
   "display_name": "Python 3",
   "language": "python",
   "name": "python3"
  },
  "language_info": {
   "codemirror_mode": {
    "name": "ipython",
    "version": 3
   },
   "file_extension": ".py",
   "mimetype": "text/x-python",
   "name": "python",
   "nbconvert_exporter": "python",
   "pygments_lexer": "ipython3",
   "version": "3.8.3"
  }
 },
 "nbformat": 4,
 "nbformat_minor": 2
}
