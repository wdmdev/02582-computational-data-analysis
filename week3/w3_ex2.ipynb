{
 "cells": [
  {
   "cell_type": "markdown",
   "metadata": {},
   "source": [
    "## Imports"
   ]
  },
  {
   "cell_type": "code",
   "execution_count": null,
   "metadata": {},
   "outputs": [],
   "source": [
    "import scipy.io\n",
    "import numpy as np\n",
    "from sklearn import linear_model \n",
    "from scipy import linalg\n",
    "from sklearn import preprocessing as preproc # load preprocessing function\n",
    "import matplotlib.pyplot as plt \n",
    "import matplotlib.colors as colors\n",
    "from scipy.stats import linregress\n",
    "from sklearn.model_selection import KFold\n",
    "from statsmodels.sandbox.stats.multicomp import multipletests \n",
    "import warnings # to silence convergence warnings\n",
    "\n",
    "# seaborn can be used to \"prettify\" default matplotlib plots by importing and setting as default\n",
    "import seaborn as sns\n",
    "sns.set() # Set searborn as default"
   ]
  },
  {
   "cell_type": "markdown",
   "metadata": {},
   "source": [
    "## Load dataset"
   ]
  },
  {
   "cell_type": "code",
   "execution_count": null,
   "metadata": {},
   "outputs": [],
   "source": [
    "mat = scipy.io.loadmat('sand.mat')\n",
    "\n",
    "X = mat['X']\n",
    "y = mat['Y']\n",
    "\n",
    "[n,p] = X.shape"
   ]
  },
  {
   "cell_type": "markdown",
   "metadata": {},
   "source": [
    "### 2 Find an elastic net solution for the sand data, with suitable choices of regression parameters using cross validation.\n",
    "\n",
    ">(a) Use the coordinate descent algorithm.\n",
    "\n",
    ">>(i) Python: Use Python’s `linear_model.ElasticNet`.\n",
    "\n",
    ">(b) Investigate how different values of α affects the number of nonzero parameters in the coordinate descent algorithms.\n",
    "  \n",
    ">(c) What are the pros and cons of the coordinate descent algorithm compared to using LARS?"
   ]
  },
  {
   "cell_type": "code",
   "execution_count": null,
   "metadata": {},
   "outputs": [],
   "source": [
    "# set up a range of lambdas and an alpha value\n",
    "alpha = 0.001\n",
    "lambdas = np.logspace(-3, 1, num=20)\n",
    "\n",
    "with warnings.catch_warnings(): # done to disable all the convergence warnings from elastic net\n",
    "    warnings.simplefilter(\"ignore\")\n",
    "\n",
    "    #Run the elasticNet model. You can implement Crossvalidation yourself or look at ElasticNetCV\n",
    "    model = \n",
    "    \n",
    "plt.figure()\n",
    "plt.semilogx(model.alphas_, model.mse_path_.mean(axis=-1), 'k',label='Average across the folds', linewidth=2)\n",
    "plt.xlabel(r'$\\lambda$')\n",
    "plt.ylabel('Mean square error')\n",
    "plt.title('Crossvalidated MSE of Elastic Net Fit Alpha = %.2f' % alpha)"
   ]
  },
  {
   "cell_type": "code",
   "execution_count": null,
   "metadata": {},
   "outputs": [],
   "source": [
    "#To look at the coefficients we need to implement CV ourselves\n",
    "CV = 5\n",
    "kf = KFold(n_splits=CV)\n",
    "\n",
    "coefs = np.zeros((CV,len(lambdas),p))\n",
    "\n",
    "for i, (train_index, test_index) in enumerate(kf.split(X)):\n",
    "    #Get training data\n",
    "    \n",
    "    for j, lambda_ in enumerate(lambdas):\n",
    "        with warnings.catch_warnings(): # done to disable all the convergence warnings from elastic net\n",
    "            warnings.simplefilter(\"ignore\")\n",
    "\n",
    "            #Run the elasticNet model.\n",
    "            model = \n",
    "            coefs[i,j,:] = model.coef_\n",
    "        \n",
    "trace = np.sum(coefs, axis=0)\n",
    "\n",
    "plt.figure()\n",
    "plt.semilogx(lambdas, trace)\n",
    "plt.xlabel(r'$\\lambda$')\n",
    "plt.ylabel('Sum of coefficients')\n",
    "plt.title('Sum of coefficients of Elastic Net Fit Alpha = %.2f' % alpha)"
   ]
  }
 ],
 "metadata": {
  "kernelspec": {
   "display_name": "Python 3",
   "language": "python",
   "name": "python3"
  },
  "language_info": {
   "codemirror_mode": {
    "name": "ipython",
    "version": 3
   },
   "file_extension": ".py",
   "mimetype": "text/x-python",
   "name": "python",
   "nbconvert_exporter": "python",
   "pygments_lexer": "ipython3",
   "version": "3.8.3"
  }
 },
 "nbformat": 4,
 "nbformat_minor": 2
}
